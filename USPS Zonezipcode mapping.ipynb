{
 "cells": [
  {
   "cell_type": "code",
   "execution_count": 68,
   "metadata": {},
   "outputs": [
    {
     "name": "stdout",
     "output_type": "stream",
     "text": [
      "Response Data: {'ZIPCodeError': '', 'ShippingDateError': '', 'PageError': '', 'EffectiveDate': 'August 1, 2024', 'Column0': [{'ZipCodes': '005', 'Zone': '6', 'MailService': ''}, {'ZipCodes': '006---009', 'Zone': '7', 'MailService': ''}, {'ZipCodes': '010---034', 'Zone': '6', 'MailService': ''}, {'ZipCodes': '035', 'Zone': '7', 'MailService': ''}, {'ZipCodes': '036---037', 'Zone': '6', 'MailService': ''}, {'ZipCodes': '038---049', 'Zone': '7', 'MailService': ''}, {'ZipCodes': '050---057', 'Zone': '6', 'MailService': ''}, {'ZipCodes': '058---059', 'Zone': '7', 'MailService': ''}, {'ZipCodes': '060---089', 'Zone': '6', 'MailService': ''}, {'ZipCodes': '090---099', 'Zone': '6+', 'MailService': ''}, {'ZipCodes': '100---149', 'Zone': '6', 'MailService': ''}, {'ZipCodes': '150---157', 'Zone': '5', 'MailService': ''}, {'ZipCodes': '158', 'Zone': '6', 'MailService': ''}, {'ZipCodes': '159---162', 'Zone': '5', 'MailService': ''}, {'ZipCodes': '163---165', 'Zone': '6', 'MailService': ''}, {'ZipCodes': '166', 'Zone': '5', 'MailService': ''}, {'ZipCodes': '167---171', 'Zone': '6', 'MailService': ''}, {'ZipCodes': '172', 'Zone': '5', 'MailService': ''}, {'ZipCodes': '173---199', 'Zone': '6', 'MailService': ''}, {'ZipCodes': '200---209', 'Zone': '5', 'MailService': ''}, {'ZipCodes': '210---212', 'Zone': '6', 'MailService': ''}, {'ZipCodes': '214---215', 'Zone': '5', 'MailService': ''}, {'ZipCodes': '216', 'Zone': '6', 'MailService': ''}, {'ZipCodes': '217', 'Zone': '5', 'MailService': ''}, {'ZipCodes': '218---219', 'Zone': '6', 'MailService': ''}, {'ZipCodes': '220---268', 'Zone': '5', 'MailService': ''}, {'ZipCodes': '270---286', 'Zone': '5', 'MailService': ''}, {'ZipCodes': '287---289', 'Zone': '4', 'MailService': ''}, {'ZipCodes': '290---292', 'Zone': '5', 'MailService': ''}, {'ZipCodes': '293', 'Zone': '4', 'MailService': ''}, {'ZipCodes': '294---295', 'Zone': '5', 'MailService': ''}, {'ZipCodes': '296', 'Zone': '4', 'MailService': ''}, {'ZipCodes': '297', 'Zone': '5', 'MailService': ''}, {'ZipCodes': '298---323', 'Zone': '4', 'MailService': ''}, {'ZipCodes': '324---325', 'Zone': '3', 'MailService': ''}, {'ZipCodes': '326---329', 'Zone': '4', 'MailService': ''}, {'ZipCodes': '330---333', 'Zone': '5', 'MailService': ''}, {'ZipCodes': '334---339', 'Zone': '4', 'MailService': ''}, {'ZipCodes': '340', 'Zone': '5', 'MailService': ''}, {'ZipCodes': '341---342', 'Zone': '4', 'MailService': ''}, {'ZipCodes': '344', 'Zone': '4', 'MailService': ''}, {'ZipCodes': '346---347', 'Zone': '4', 'MailService': ''}, {'ZipCodes': '349---352', 'Zone': '4', 'MailService': ''}, {'ZipCodes': '354', 'Zone': '3', 'MailService': ''}, {'ZipCodes': '355---359', 'Zone': '4', 'MailService': ''}, {'ZipCodes': '360---361', 'Zone': '3', 'MailService': ''}, {'ZipCodes': '362', 'Zone': '4', 'MailService': ''}], 'Column1': [{'ZipCodes': '363---365', 'Zone': '3', 'MailService': ''}, {'ZipCodes': '366', 'Zone': '2', 'MailService': ''}, {'ZipCodes': '367', 'Zone': '3', 'MailService': ''}, {'ZipCodes': '368', 'Zone': '4', 'MailService': ''}, {'ZipCodes': '369', 'Zone': '3*', 'MailService': ''}, {'ZipCodes': '370---372', 'Zone': '4*', 'MailService': ''}, {'ZipCodes': '373---374', 'Zone': '4', 'MailService': ''}, {'ZipCodes': '375', 'Zone': '4*', 'MailService': ''}, {'ZipCodes': '376', 'Zone': '5', 'MailService': ''}, {'ZipCodes': '377---379', 'Zone': '4', 'MailService': ''}, {'ZipCodes': '380---386', 'Zone': '4*', 'MailService': ''}, {'ZipCodes': '387', 'Zone': '3*', 'MailService': ''}, {'ZipCodes': '388', 'Zone': '4*', 'MailService': ''}, {'ZipCodes': '389---393', 'Zone': '3*', 'MailService': ''}, {'ZipCodes': '394---395', 'Zone': '2', 'MailService': ''}, {'ZipCodes': '396', 'Zone': '2*', 'MailService': ''}, {'ZipCodes': '397', 'Zone': '3*', 'MailService': ''}, {'ZipCodes': '398---399', 'Zone': '4', 'MailService': ''}, {'ZipCodes': '400---418', 'Zone': '5', 'MailService': ''}, {'ZipCodes': '420', 'Zone': '4', 'MailService': ''}, {'ZipCodes': '421---422', 'Zone': '4*', 'MailService': ''}, {'ZipCodes': '423---424', 'Zone': '4', 'MailService': ''}, {'ZipCodes': '425', 'Zone': '5', 'MailService': ''}, {'ZipCodes': '426---427', 'Zone': '4', 'MailService': ''}, {'ZipCodes': '430---476', 'Zone': '5', 'MailService': ''}, {'ZipCodes': '477', 'Zone': '4', 'MailService': ''}, {'ZipCodes': '478---483', 'Zone': '5', 'MailService': ''}, {'ZipCodes': '484', 'Zone': '6', 'MailService': ''}, {'ZipCodes': '485', 'Zone': '5', 'MailService': ''}, {'ZipCodes': '486---487', 'Zone': '6', 'MailService': ''}, {'ZipCodes': '488---495', 'Zone': '5', 'MailService': ''}, {'ZipCodes': '496---499', 'Zone': '6', 'MailService': ''}, {'ZipCodes': '500---511', 'Zone': '5', 'MailService': ''}, {'ZipCodes': '512', 'Zone': '6', 'MailService': ''}, {'ZipCodes': '513---516', 'Zone': '5', 'MailService': ''}, {'ZipCodes': '520---528', 'Zone': '5', 'MailService': ''}, {'ZipCodes': '530---532', 'Zone': '5', 'MailService': ''}, {'ZipCodes': '534---535', 'Zone': '5', 'MailService': ''}, {'ZipCodes': '537---539', 'Zone': '5', 'MailService': ''}, {'ZipCodes': '540---545', 'Zone': '6', 'MailService': ''}, {'ZipCodes': '546', 'Zone': '5', 'MailService': ''}, {'ZipCodes': '547---551', 'Zone': '6', 'MailService': ''}, {'ZipCodes': '553---558', 'Zone': '6', 'MailService': ''}, {'ZipCodes': '559', 'Zone': '5', 'MailService': ''}, {'ZipCodes': '560---567', 'Zone': '6', 'MailService': ''}, {'ZipCodes': '570---577', 'Zone': '6', 'MailService': ''}, {'ZipCodes': '580---586', 'Zone': '6', 'MailService': ''}], 'Column2': [{'ZipCodes': '587---588', 'Zone': '7', 'MailService': ''}, {'ZipCodes': '590---598', 'Zone': '7', 'MailService': ''}, {'ZipCodes': '599', 'Zone': '8', 'MailService': ''}, {'ZipCodes': '600---620', 'Zone': '5', 'MailService': ''}, {'ZipCodes': '622---628', 'Zone': '5', 'MailService': ''}, {'ZipCodes': '629', 'Zone': '4', 'MailService': ''}, {'ZipCodes': '630---631', 'Zone': '5', 'MailService': ''}, {'ZipCodes': '633---635', 'Zone': '5', 'MailService': ''}, {'ZipCodes': '636---639', 'Zone': '4', 'MailService': ''}, {'ZipCodes': '640---641', 'Zone': '5', 'MailService': ''}, {'ZipCodes': '644---647', 'Zone': '5', 'MailService': ''}, {'ZipCodes': '648', 'Zone': '4', 'MailService': ''}, {'ZipCodes': '649---653', 'Zone': '5', 'MailService': ''}, {'ZipCodes': '654---658', 'Zone': '4', 'MailService': ''}, {'ZipCodes': '660---662', 'Zone': '5', 'MailService': ''}, {'ZipCodes': '664---681', 'Zone': '5', 'MailService': ''}, {'ZipCodes': '683---686', 'Zone': '5', 'MailService': ''}, {'ZipCodes': '687', 'Zone': '6', 'MailService': ''}, {'ZipCodes': '688---690', 'Zone': '5', 'MailService': ''}, {'ZipCodes': '691---693', 'Zone': '6', 'MailService': ''}, {'ZipCodes': '700---701', 'Zone': '1*', 'MailService': ''}, {'ZipCodes': '703', 'Zone': '1*', 'MailService': ''}, {'ZipCodes': '704', 'Zone': '2*', 'MailService': ''}, {'ZipCodes': '705---706', 'Zone': '3*', 'MailService': ''}, {'ZipCodes': '707---708', 'Zone': '2*', 'MailService': ''}, {'ZipCodes': '710', 'Zone': '3', 'MailService': ''}, {'ZipCodes': '711', 'Zone': '4', 'MailService': ''}, {'ZipCodes': '712---714', 'Zone': '3', 'MailService': ''}, {'ZipCodes': '716---717', 'Zone': '4*', 'MailService': ''}, {'ZipCodes': '718', 'Zone': '4', 'MailService': ''}, {'ZipCodes': '719---729', 'Zone': '4*', 'MailService': ''}, {'ZipCodes': '730---731', 'Zone': '5', 'MailService': ''}, {'ZipCodes': '733---734', 'Zone': '4', 'MailService': ''}, {'ZipCodes': '735---739', 'Zone': '5', 'MailService': ''}, {'ZipCodes': '740---741', 'Zone': '4', 'MailService': ''}, {'ZipCodes': '743---745', 'Zone': '4', 'MailService': ''}, {'ZipCodes': '746', 'Zone': '5', 'MailService': ''}, {'ZipCodes': '747---758', 'Zone': '4', 'MailService': ''}, {'ZipCodes': '759', 'Zone': '3', 'MailService': ''}, {'ZipCodes': '760---762', 'Zone': '4', 'MailService': ''}, {'ZipCodes': '763', 'Zone': '5', 'MailService': ''}, {'ZipCodes': '764---768', 'Zone': '4', 'MailService': ''}, {'ZipCodes': '769', 'Zone': '5', 'MailService': ''}, {'ZipCodes': '770', 'Zone': '4', 'MailService': ''}, {'ZipCodes': '772---774', 'Zone': '4', 'MailService': ''}, {'ZipCodes': '775---777', 'Zone': '3', 'MailService': ''}, {'ZipCodes': '778---787', 'Zone': '4', 'MailService': ''}], 'Column3': [{'ZipCodes': '788', 'Zone': '5', 'MailService': ''}, {'ZipCodes': '789', 'Zone': '4', 'MailService': ''}, {'ZipCodes': '790---799', 'Zone': '5', 'MailService': ''}, {'ZipCodes': '800---809', 'Zone': '6', 'MailService': ''}, {'ZipCodes': '810', 'Zone': '5', 'MailService': ''}, {'ZipCodes': '811---816', 'Zone': '6', 'MailService': ''}, {'ZipCodes': '820', 'Zone': '6', 'MailService': ''}, {'ZipCodes': '821', 'Zone': '7', 'MailService': ''}, {'ZipCodes': '822---823', 'Zone': '6', 'MailService': ''}, {'ZipCodes': '824---825', 'Zone': '7', 'MailService': ''}, {'ZipCodes': '826---828', 'Zone': '6', 'MailService': ''}, {'ZipCodes': '829---837', 'Zone': '7', 'MailService': ''}, {'ZipCodes': '838', 'Zone': '8', 'MailService': ''}, {'ZipCodes': '840', 'Zone': '6', 'MailService': ''}, {'ZipCodes': '841---844', 'Zone': '7', 'MailService': ''}, {'ZipCodes': '845', 'Zone': '6', 'MailService': ''}, {'ZipCodes': '846---847', 'Zone': '7', 'MailService': ''}, {'ZipCodes': '850---852', 'Zone': '6', 'MailService': ''}, {'ZipCodes': '853', 'Zone': '7', 'MailService': ''}, {'ZipCodes': '855---857', 'Zone': '6', 'MailService': ''}, {'ZipCodes': '859---860', 'Zone': '6', 'MailService': ''}, {'ZipCodes': '863', 'Zone': '6', 'MailService': ''}, {'ZipCodes': '864', 'Zone': '7', 'MailService': ''}, {'ZipCodes': '865', 'Zone': '6', 'MailService': ''}, {'ZipCodes': '870---871', 'Zone': '6', 'MailService': ''}, {'ZipCodes': '873---876', 'Zone': '6', 'MailService': ''}, {'ZipCodes': '877', 'Zone': '5', 'MailService': ''}, {'ZipCodes': '878---880', 'Zone': '6', 'MailService': ''}, {'ZipCodes': '881---885', 'Zone': '5', 'MailService': ''}, {'ZipCodes': '889---891', 'Zone': '7', 'MailService': ''}, {'ZipCodes': '893---894', 'Zone': '7', 'MailService': ''}, {'ZipCodes': '895', 'Zone': '8', 'MailService': ''}, {'ZipCodes': '897', 'Zone': '8', 'MailService': ''}, {'ZipCodes': '898', 'Zone': '7', 'MailService': ''}, {'ZipCodes': '900---908', 'Zone': '7', 'MailService': ''}, {'ZipCodes': '910---928', 'Zone': '7', 'MailService': ''}, {'ZipCodes': '930---933', 'Zone': '7', 'MailService': ''}, {'ZipCodes': '934', 'Zone': '8', 'MailService': ''}, {'ZipCodes': '935---938', 'Zone': '7', 'MailService': ''}, {'ZipCodes': '939---961', 'Zone': '8', 'MailService': ''}, {'ZipCodes': '962---966', 'Zone': '8+', 'MailService': ''}, {'ZipCodes': '967---968', 'Zone': '8', 'MailService': ''}, {'ZipCodes': '969', 'Zone': '9+', 'MailService': ''}, {'ZipCodes': '970---986', 'Zone': '8', 'MailService': ''}, {'ZipCodes': '988---999', 'Zone': '8', 'MailService': ''}], 'Zip5Digit': [{'ZipCodes': '09000---09999', 'Zone': '5', 'MailService': 'Priority Mail service'}, {'ZipCodes': '09000---09999', 'Zone': '5', 'MailService': 'USPS Ground Advantage (< 16 oz.)'}, {'ZipCodes': '96200---96699', 'Zone': '5', 'MailService': 'Priority Mail service'}, {'ZipCodes': '96200---96699', 'Zone': '5', 'MailService': 'USPS Ground Advantage (< 16 oz.)'}, {'ZipCodes': '96900---96938', 'Zone': '8', 'MailService': ''}, {'ZipCodes': '96945---96959', 'Zone': '8', 'MailService': ''}, {'ZipCodes': '96961---96969', 'Zone': '8', 'MailService': ''}, {'ZipCodes': '96971---96999', 'Zone': '8', 'MailService': ''}]}\n",
      "<class 'dict'>\n",
      "{'ZIPCodeError': '', 'ShippingDateError': '', 'PageError': '', 'EffectiveDate': 'August 1, 2024', 'Column0': [{'ZipCodes': '005', 'Zone': '6', 'MailService': ''}, {'ZipCodes': '006---009', 'Zone': '7', 'MailService': ''}, {'ZipCodes': '010---034', 'Zone': '6', 'MailService': ''}, {'ZipCodes': '035', 'Zone': '7', 'MailService': ''}, {'ZipCodes': '036---037', 'Zone': '6', 'MailService': ''}, {'ZipCodes': '038---049', 'Zone': '7', 'MailService': ''}, {'ZipCodes': '050---057', 'Zone': '6', 'MailService': ''}, {'ZipCodes': '058---059', 'Zone': '7', 'MailService': ''}, {'ZipCodes': '060---089', 'Zone': '6', 'MailService': ''}, {'ZipCodes': '090---099', 'Zone': '6+', 'MailService': ''}, {'ZipCodes': '100---149', 'Zone': '6', 'MailService': ''}, {'ZipCodes': '150---157', 'Zone': '5', 'MailService': ''}, {'ZipCodes': '158', 'Zone': '6', 'MailService': ''}, {'ZipCodes': '159---162', 'Zone': '5', 'MailService': ''}, {'ZipCodes': '163---165', 'Zone': '6', 'MailService': ''}, {'ZipCodes': '166', 'Zone': '5', 'MailService': ''}, {'ZipCodes': '167---171', 'Zone': '6', 'MailService': ''}, {'ZipCodes': '172', 'Zone': '5', 'MailService': ''}, {'ZipCodes': '173---199', 'Zone': '6', 'MailService': ''}, {'ZipCodes': '200---209', 'Zone': '5', 'MailService': ''}, {'ZipCodes': '210---212', 'Zone': '6', 'MailService': ''}, {'ZipCodes': '214---215', 'Zone': '5', 'MailService': ''}, {'ZipCodes': '216', 'Zone': '6', 'MailService': ''}, {'ZipCodes': '217', 'Zone': '5', 'MailService': ''}, {'ZipCodes': '218---219', 'Zone': '6', 'MailService': ''}, {'ZipCodes': '220---268', 'Zone': '5', 'MailService': ''}, {'ZipCodes': '270---286', 'Zone': '5', 'MailService': ''}, {'ZipCodes': '287---289', 'Zone': '4', 'MailService': ''}, {'ZipCodes': '290---292', 'Zone': '5', 'MailService': ''}, {'ZipCodes': '293', 'Zone': '4', 'MailService': ''}, {'ZipCodes': '294---295', 'Zone': '5', 'MailService': ''}, {'ZipCodes': '296', 'Zone': '4', 'MailService': ''}, {'ZipCodes': '297', 'Zone': '5', 'MailService': ''}, {'ZipCodes': '298---323', 'Zone': '4', 'MailService': ''}, {'ZipCodes': '324---325', 'Zone': '3', 'MailService': ''}, {'ZipCodes': '326---329', 'Zone': '4', 'MailService': ''}, {'ZipCodes': '330---333', 'Zone': '5', 'MailService': ''}, {'ZipCodes': '334---339', 'Zone': '4', 'MailService': ''}, {'ZipCodes': '340', 'Zone': '5', 'MailService': ''}, {'ZipCodes': '341---342', 'Zone': '4', 'MailService': ''}, {'ZipCodes': '344', 'Zone': '4', 'MailService': ''}, {'ZipCodes': '346---347', 'Zone': '4', 'MailService': ''}, {'ZipCodes': '349---352', 'Zone': '4', 'MailService': ''}, {'ZipCodes': '354', 'Zone': '3', 'MailService': ''}, {'ZipCodes': '355---359', 'Zone': '4', 'MailService': ''}, {'ZipCodes': '360---361', 'Zone': '3', 'MailService': ''}, {'ZipCodes': '362', 'Zone': '4', 'MailService': ''}], 'Column1': [{'ZipCodes': '363---365', 'Zone': '3', 'MailService': ''}, {'ZipCodes': '366', 'Zone': '2', 'MailService': ''}, {'ZipCodes': '367', 'Zone': '3', 'MailService': ''}, {'ZipCodes': '368', 'Zone': '4', 'MailService': ''}, {'ZipCodes': '369', 'Zone': '3*', 'MailService': ''}, {'ZipCodes': '370---372', 'Zone': '4*', 'MailService': ''}, {'ZipCodes': '373---374', 'Zone': '4', 'MailService': ''}, {'ZipCodes': '375', 'Zone': '4*', 'MailService': ''}, {'ZipCodes': '376', 'Zone': '5', 'MailService': ''}, {'ZipCodes': '377---379', 'Zone': '4', 'MailService': ''}, {'ZipCodes': '380---386', 'Zone': '4*', 'MailService': ''}, {'ZipCodes': '387', 'Zone': '3*', 'MailService': ''}, {'ZipCodes': '388', 'Zone': '4*', 'MailService': ''}, {'ZipCodes': '389---393', 'Zone': '3*', 'MailService': ''}, {'ZipCodes': '394---395', 'Zone': '2', 'MailService': ''}, {'ZipCodes': '396', 'Zone': '2*', 'MailService': ''}, {'ZipCodes': '397', 'Zone': '3*', 'MailService': ''}, {'ZipCodes': '398---399', 'Zone': '4', 'MailService': ''}, {'ZipCodes': '400---418', 'Zone': '5', 'MailService': ''}, {'ZipCodes': '420', 'Zone': '4', 'MailService': ''}, {'ZipCodes': '421---422', 'Zone': '4*', 'MailService': ''}, {'ZipCodes': '423---424', 'Zone': '4', 'MailService': ''}, {'ZipCodes': '425', 'Zone': '5', 'MailService': ''}, {'ZipCodes': '426---427', 'Zone': '4', 'MailService': ''}, {'ZipCodes': '430---476', 'Zone': '5', 'MailService': ''}, {'ZipCodes': '477', 'Zone': '4', 'MailService': ''}, {'ZipCodes': '478---483', 'Zone': '5', 'MailService': ''}, {'ZipCodes': '484', 'Zone': '6', 'MailService': ''}, {'ZipCodes': '485', 'Zone': '5', 'MailService': ''}, {'ZipCodes': '486---487', 'Zone': '6', 'MailService': ''}, {'ZipCodes': '488---495', 'Zone': '5', 'MailService': ''}, {'ZipCodes': '496---499', 'Zone': '6', 'MailService': ''}, {'ZipCodes': '500---511', 'Zone': '5', 'MailService': ''}, {'ZipCodes': '512', 'Zone': '6', 'MailService': ''}, {'ZipCodes': '513---516', 'Zone': '5', 'MailService': ''}, {'ZipCodes': '520---528', 'Zone': '5', 'MailService': ''}, {'ZipCodes': '530---532', 'Zone': '5', 'MailService': ''}, {'ZipCodes': '534---535', 'Zone': '5', 'MailService': ''}, {'ZipCodes': '537---539', 'Zone': '5', 'MailService': ''}, {'ZipCodes': '540---545', 'Zone': '6', 'MailService': ''}, {'ZipCodes': '546', 'Zone': '5', 'MailService': ''}, {'ZipCodes': '547---551', 'Zone': '6', 'MailService': ''}, {'ZipCodes': '553---558', 'Zone': '6', 'MailService': ''}, {'ZipCodes': '559', 'Zone': '5', 'MailService': ''}, {'ZipCodes': '560---567', 'Zone': '6', 'MailService': ''}, {'ZipCodes': '570---577', 'Zone': '6', 'MailService': ''}, {'ZipCodes': '580---586', 'Zone': '6', 'MailService': ''}], 'Column2': [{'ZipCodes': '587---588', 'Zone': '7', 'MailService': ''}, {'ZipCodes': '590---598', 'Zone': '7', 'MailService': ''}, {'ZipCodes': '599', 'Zone': '8', 'MailService': ''}, {'ZipCodes': '600---620', 'Zone': '5', 'MailService': ''}, {'ZipCodes': '622---628', 'Zone': '5', 'MailService': ''}, {'ZipCodes': '629', 'Zone': '4', 'MailService': ''}, {'ZipCodes': '630---631', 'Zone': '5', 'MailService': ''}, {'ZipCodes': '633---635', 'Zone': '5', 'MailService': ''}, {'ZipCodes': '636---639', 'Zone': '4', 'MailService': ''}, {'ZipCodes': '640---641', 'Zone': '5', 'MailService': ''}, {'ZipCodes': '644---647', 'Zone': '5', 'MailService': ''}, {'ZipCodes': '648', 'Zone': '4', 'MailService': ''}, {'ZipCodes': '649---653', 'Zone': '5', 'MailService': ''}, {'ZipCodes': '654---658', 'Zone': '4', 'MailService': ''}, {'ZipCodes': '660---662', 'Zone': '5', 'MailService': ''}, {'ZipCodes': '664---681', 'Zone': '5', 'MailService': ''}, {'ZipCodes': '683---686', 'Zone': '5', 'MailService': ''}, {'ZipCodes': '687', 'Zone': '6', 'MailService': ''}, {'ZipCodes': '688---690', 'Zone': '5', 'MailService': ''}, {'ZipCodes': '691---693', 'Zone': '6', 'MailService': ''}, {'ZipCodes': '700---701', 'Zone': '1*', 'MailService': ''}, {'ZipCodes': '703', 'Zone': '1*', 'MailService': ''}, {'ZipCodes': '704', 'Zone': '2*', 'MailService': ''}, {'ZipCodes': '705---706', 'Zone': '3*', 'MailService': ''}, {'ZipCodes': '707---708', 'Zone': '2*', 'MailService': ''}, {'ZipCodes': '710', 'Zone': '3', 'MailService': ''}, {'ZipCodes': '711', 'Zone': '4', 'MailService': ''}, {'ZipCodes': '712---714', 'Zone': '3', 'MailService': ''}, {'ZipCodes': '716---717', 'Zone': '4*', 'MailService': ''}, {'ZipCodes': '718', 'Zone': '4', 'MailService': ''}, {'ZipCodes': '719---729', 'Zone': '4*', 'MailService': ''}, {'ZipCodes': '730---731', 'Zone': '5', 'MailService': ''}, {'ZipCodes': '733---734', 'Zone': '4', 'MailService': ''}, {'ZipCodes': '735---739', 'Zone': '5', 'MailService': ''}, {'ZipCodes': '740---741', 'Zone': '4', 'MailService': ''}, {'ZipCodes': '743---745', 'Zone': '4', 'MailService': ''}, {'ZipCodes': '746', 'Zone': '5', 'MailService': ''}, {'ZipCodes': '747---758', 'Zone': '4', 'MailService': ''}, {'ZipCodes': '759', 'Zone': '3', 'MailService': ''}, {'ZipCodes': '760---762', 'Zone': '4', 'MailService': ''}, {'ZipCodes': '763', 'Zone': '5', 'MailService': ''}, {'ZipCodes': '764---768', 'Zone': '4', 'MailService': ''}, {'ZipCodes': '769', 'Zone': '5', 'MailService': ''}, {'ZipCodes': '770', 'Zone': '4', 'MailService': ''}, {'ZipCodes': '772---774', 'Zone': '4', 'MailService': ''}, {'ZipCodes': '775---777', 'Zone': '3', 'MailService': ''}, {'ZipCodes': '778---787', 'Zone': '4', 'MailService': ''}], 'Column3': [{'ZipCodes': '788', 'Zone': '5', 'MailService': ''}, {'ZipCodes': '789', 'Zone': '4', 'MailService': ''}, {'ZipCodes': '790---799', 'Zone': '5', 'MailService': ''}, {'ZipCodes': '800---809', 'Zone': '6', 'MailService': ''}, {'ZipCodes': '810', 'Zone': '5', 'MailService': ''}, {'ZipCodes': '811---816', 'Zone': '6', 'MailService': ''}, {'ZipCodes': '820', 'Zone': '6', 'MailService': ''}, {'ZipCodes': '821', 'Zone': '7', 'MailService': ''}, {'ZipCodes': '822---823', 'Zone': '6', 'MailService': ''}, {'ZipCodes': '824---825', 'Zone': '7', 'MailService': ''}, {'ZipCodes': '826---828', 'Zone': '6', 'MailService': ''}, {'ZipCodes': '829---837', 'Zone': '7', 'MailService': ''}, {'ZipCodes': '838', 'Zone': '8', 'MailService': ''}, {'ZipCodes': '840', 'Zone': '6', 'MailService': ''}, {'ZipCodes': '841---844', 'Zone': '7', 'MailService': ''}, {'ZipCodes': '845', 'Zone': '6', 'MailService': ''}, {'ZipCodes': '846---847', 'Zone': '7', 'MailService': ''}, {'ZipCodes': '850---852', 'Zone': '6', 'MailService': ''}, {'ZipCodes': '853', 'Zone': '7', 'MailService': ''}, {'ZipCodes': '855---857', 'Zone': '6', 'MailService': ''}, {'ZipCodes': '859---860', 'Zone': '6', 'MailService': ''}, {'ZipCodes': '863', 'Zone': '6', 'MailService': ''}, {'ZipCodes': '864', 'Zone': '7', 'MailService': ''}, {'ZipCodes': '865', 'Zone': '6', 'MailService': ''}, {'ZipCodes': '870---871', 'Zone': '6', 'MailService': ''}, {'ZipCodes': '873---876', 'Zone': '6', 'MailService': ''}, {'ZipCodes': '877', 'Zone': '5', 'MailService': ''}, {'ZipCodes': '878---880', 'Zone': '6', 'MailService': ''}, {'ZipCodes': '881---885', 'Zone': '5', 'MailService': ''}, {'ZipCodes': '889---891', 'Zone': '7', 'MailService': ''}, {'ZipCodes': '893---894', 'Zone': '7', 'MailService': ''}, {'ZipCodes': '895', 'Zone': '8', 'MailService': ''}, {'ZipCodes': '897', 'Zone': '8', 'MailService': ''}, {'ZipCodes': '898', 'Zone': '7', 'MailService': ''}, {'ZipCodes': '900---908', 'Zone': '7', 'MailService': ''}, {'ZipCodes': '910---928', 'Zone': '7', 'MailService': ''}, {'ZipCodes': '930---933', 'Zone': '7', 'MailService': ''}, {'ZipCodes': '934', 'Zone': '8', 'MailService': ''}, {'ZipCodes': '935---938', 'Zone': '7', 'MailService': ''}, {'ZipCodes': '939---961', 'Zone': '8', 'MailService': ''}, {'ZipCodes': '962---966', 'Zone': '8+', 'MailService': ''}, {'ZipCodes': '967---968', 'Zone': '8', 'MailService': ''}, {'ZipCodes': '969', 'Zone': '9+', 'MailService': ''}, {'ZipCodes': '970---986', 'Zone': '8', 'MailService': ''}, {'ZipCodes': '988---999', 'Zone': '8', 'MailService': ''}], 'Zip5Digit': [{'ZipCodes': '09000---09999', 'Zone': '5', 'MailService': 'Priority Mail service'}, {'ZipCodes': '09000---09999', 'Zone': '5', 'MailService': 'USPS Ground Advantage (< 16 oz.)'}, {'ZipCodes': '96200---96699', 'Zone': '5', 'MailService': 'Priority Mail service'}, {'ZipCodes': '96200---96699', 'Zone': '5', 'MailService': 'USPS Ground Advantage (< 16 oz.)'}, {'ZipCodes': '96900---96938', 'Zone': '8', 'MailService': ''}, {'ZipCodes': '96945---96959', 'Zone': '8', 'MailService': ''}, {'ZipCodes': '96961---96969', 'Zone': '8', 'MailService': ''}, {'ZipCodes': '96971---96999', 'Zone': '8', 'MailService': ''}]}\n"
     ]
    }
   ],
   "source": [
    "import requests\n",
    "import json\n",
    "\n",
    "def get_zone_chart(zip_code, shipping_date):\n",
    "    # Construct the URL with the given ZIP code and shipping date\n",
    "    url = f\"https://postcalc.usps.com/DomesticZoneChart/GetZoneChart?zipCode3Digit={zip_code}&shippingDate={shipping_date}\"\n",
    "\n",
    "    # Optional headers (these can be customized if necessary)\n",
    "    headers = {\n",
    "        'authority': 'postcalc.usps.com',\n",
    "        'method': 'GET',\n",
    "        'User-Agent': 'Mozilla/5.0 (Windows NT 10.0; Win64; x64) AppleWebKit/537.36 (KHTML, like Gecko) Chrome/91.0.4472.124 Safari/537.36',\n",
    "    }\n",
    "\n",
    "    # Send the GET request to the USPS API\n",
    "    try:\n",
    "        response = requests.get(url, headers=headers)\n",
    "        response.raise_for_status()  # This will raise an HTTPError if the HTTP request returned an unsuccessful status code\n",
    "    except requests.exceptions.HTTPError as http_err:\n",
    "        print(f\"HTTP error occurred: {http_err}\")  # Handle HTTP errors\n",
    "        return None\n",
    "    except Exception as err:\n",
    "        print(f\"Other error occurred: {err}\")  # Handle other errors\n",
    "        return None\n",
    "    \n",
    "    # Parse the JSON data if the request was successful\n",
    "    try:\n",
    "        data = response.json()\n",
    "        return data\n",
    "    except json.JSONDecodeError:\n",
    "        print(\"Failed to parse JSON response.\")\n",
    "        return None\n",
    "\n",
    "# Example usage\n",
    "zip_code = \"700\"  # Example ZIP code\n",
    "shipping_date = \"8/12/2024\"  # Example shipping date in MM/DD/YYYY format\n",
    "\n",
    "response_data = get_zone_chart(zip_code, shipping_date)\n",
    "\n",
    "if data:\n",
    "    print(\"Response Data:\", response_data)\n",
    "    print(type(response_data))\n",
    "    print(response_data)\n",
    "else:\n",
    "    print(\"No valid data received.\")"
   ]
  },
  {
   "cell_type": "code",
   "execution_count": 56,
   "metadata": {},
   "outputs": [],
   "source": [
    "\n",
    "# Extract the relevant part of the JSON data\n",
    "columns_data0 = response_data['Column0']\n",
    "columns_data1 = response_data['Column1']\n",
    "columns_data2 = response_data['Column2']\n",
    "Zip5Digit = response_data['Zip5Digit']\n",
    "\n",
    "\n",
    "\n",
    "columns_data0 = pd.DataFrame(columns_data0)\n",
    "columns_data1 = pd.DataFrame(columns_data1)\n",
    "columns_data2 = pd.DataFrame(columns_data2)\n",
    "#Zip5Digit     = pd.DataFrame[Zip5Digit]\n",
    "\n",
    "combined_df = pd.concat([columns_data0, columns_data1,columns_data2], axis=0)\n",
    "df = combined_df.copy()"
   ]
  },
  {
   "cell_type": "code",
   "execution_count": 57,
   "metadata": {},
   "outputs": [],
   "source": [
    "# Function to expand ZIP code ranges\n",
    "def expand_zipcodes(zip_code):\n",
    "    if '---' in zip_code:\n",
    "        start, end = zip_code.split('---')\n",
    "        return [str(i).zfill(3) for i in range(int(start), int(end) + 1)]\n",
    "    else:\n",
    "        return [zip_code]\n",
    "\n",
    "# Expand the ZIP codes based on the existing DataFrame\n",
    "expanded_zipcodes = []\n",
    "\n",
    "for i, row in df.iterrows():\n",
    "    zip_codes = expand_zipcodes(row['ZipCodes'])\n",
    "    for zip_code in zip_codes:\n",
    "        expanded_zipcodes.append({'ZipCode': zip_code, 'Zone': row['Zone']})\n",
    "\n",
    "# Create a new DataFrame with expanded ZIP codes\n",
    "expanded_df = pd.DataFrame(expanded_zipcodes)\n"
   ]
  },
  {
   "cell_type": "code",
   "execution_count": 58,
   "metadata": {},
   "outputs": [
    {
     "data": {
      "text/html": [
       "<div>\n",
       "<style scoped>\n",
       "    .dataframe tbody tr th:only-of-type {\n",
       "        vertical-align: middle;\n",
       "    }\n",
       "\n",
       "    .dataframe tbody tr th {\n",
       "        vertical-align: top;\n",
       "    }\n",
       "\n",
       "    .dataframe thead th {\n",
       "        text-align: right;\n",
       "    }\n",
       "</style>\n",
       "<table border=\"1\" class=\"dataframe\">\n",
       "  <thead>\n",
       "    <tr style=\"text-align: right;\">\n",
       "      <th></th>\n",
       "      <th>ZipCode</th>\n",
       "      <th>Zone</th>\n",
       "    </tr>\n",
       "  </thead>\n",
       "  <tbody>\n",
       "    <tr>\n",
       "      <th>0</th>\n",
       "      <td>005</td>\n",
       "      <td>6</td>\n",
       "    </tr>\n",
       "    <tr>\n",
       "      <th>1</th>\n",
       "      <td>006</td>\n",
       "      <td>7</td>\n",
       "    </tr>\n",
       "    <tr>\n",
       "      <th>2</th>\n",
       "      <td>007</td>\n",
       "      <td>7</td>\n",
       "    </tr>\n",
       "    <tr>\n",
       "      <th>3</th>\n",
       "      <td>008</td>\n",
       "      <td>7</td>\n",
       "    </tr>\n",
       "    <tr>\n",
       "      <th>4</th>\n",
       "      <td>009</td>\n",
       "      <td>7</td>\n",
       "    </tr>\n",
       "  </tbody>\n",
       "</table>\n",
       "</div>"
      ],
      "text/plain": [
       "  ZipCode Zone\n",
       "0     005    6\n",
       "1     006    7\n",
       "2     007    7\n",
       "3     008    7\n",
       "4     009    7"
      ]
     },
     "execution_count": 58,
     "metadata": {},
     "output_type": "execute_result"
    }
   ],
   "source": [
    "expanded_df.head()"
   ]
  },
  {
   "cell_type": "code",
   "execution_count": null,
   "metadata": {},
   "outputs": [],
   "source": []
  }
 ],
 "metadata": {
  "kernelspec": {
   "display_name": "base",
   "language": "python",
   "name": "python3"
  },
  "language_info": {
   "codemirror_mode": {
    "name": "ipython",
    "version": 3
   },
   "file_extension": ".py",
   "mimetype": "text/x-python",
   "name": "python",
   "nbconvert_exporter": "python",
   "pygments_lexer": "ipython3",
   "version": "3.9.13"
  }
 },
 "nbformat": 4,
 "nbformat_minor": 2
}
