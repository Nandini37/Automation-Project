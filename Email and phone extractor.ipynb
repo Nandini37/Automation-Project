{
 "cells": [
  {
   "cell_type": "code",
   "execution_count": 1,
   "metadata": {},
   "outputs": [
    {
     "name": "stdout",
     "output_type": "stream",
     "text": [
      "Emails found: ['john.doe@example.com', 'jane_smith123@domain.org']\n",
      "Phone numbers found: ['123) 456-7890', '987-654-3210']\n"
     ]
    }
   ],
   "source": [
    "import re\n",
    "\n",
    "def extract_emails_and_phone_numbers(text):\n",
    "    # Define regex patterns for emails and phone numbers\n",
    "    email_pattern = r'[a-zA-Z0-9._%+-]+@[a-zA-Z0-9.-]+\\.[a-zA-Z]{2,}'\n",
    "    phone_pattern = r'\\b(?:\\+\\d{1,3}[ -]?)?\\(?\\d{2,4}\\)?[ -]?\\d{2,4}[ -]?\\d{2,4}[ -]?\\d{2,4}\\b'\n",
    "    \n",
    "    # Find all matches in the text\n",
    "    emails = re.findall(email_pattern, text)\n",
    "    phones = re.findall(phone_pattern, text)\n",
    "    \n",
    "    return emails, phones\n",
    "\n",
    "# Example usage\n",
    "text = \"\"\"\n",
    "You can contact me at john.doe@example.com or jane_smith123@domain.org.\n",
    "For urgent matters, call +1 (123) 456-7890 or 987-654-3210.\n",
    "\"\"\"\n",
    "\n",
    "emails, phones = extract_emails_and_phone_numbers(text)\n",
    "print(\"Emails found:\", emails)\n",
    "print(\"Phone numbers found:\", phones)"
   ]
  },
  {
   "cell_type": "code",
   "execution_count": null,
   "metadata": {},
   "outputs": [],
   "source": []
  }
 ],
 "metadata": {
  "kernelspec": {
   "display_name": "base",
   "language": "python",
   "name": "python3"
  },
  "language_info": {
   "codemirror_mode": {
    "name": "ipython",
    "version": 3
   },
   "file_extension": ".py",
   "mimetype": "text/x-python",
   "name": "python",
   "nbconvert_exporter": "python",
   "pygments_lexer": "ipython3",
   "version": "3.9.13"
  }
 },
 "nbformat": 4,
 "nbformat_minor": 2
}
